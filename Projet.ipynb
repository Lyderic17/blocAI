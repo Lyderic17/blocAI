{
 "cells": [
  {
   "cell_type": "code",
   "execution_count": 1,
   "id": "ca09d921",
   "metadata": {},
   "outputs": [],
   "source": [
    "import numpy as np\n",
    "import os\n",
    "import pandas as pd\n",
    "import matplotlib.pyplot as plt, seaborn as sns\n",
    "import warnings\n",
    "warnings.filterwarnings('ignore')\n",
    "pd.set_option('display.max_columns',None)\n",
    "\n",
    "from numpy.random import default_rng\n",
    "# stabilité du notebook d'une exécution à l'autre\n",
    "\n",
    "random=default_rng(42)\n",
    "# jolies figures directement dans le notebook\n",
    "%matplotlib inline\n",
    "import matplotlib\n",
    "import matplotlib.pyplot as plt\n",
    "plt.rcParams['axes.labelsize'] = 14\n",
    "plt.rcParams['xtick.labelsize'] = 12\n",
    "plt.rcParams['ytick.labelsize'] = 12\n",
    "\n",
    "# où sauver les figures\n",
    "PROJECT_ROOT_DIR = \".\"\n",
    "CHAPTER_ID = \"workflowDS\"\n",
    "IMAGES_PATH = os.path.join(PROJECT_ROOT_DIR, \"images\", CHAPTER_ID) # le dossier doit exister\n",
    "\n",
    "def save_fig(fig_id, tight_layout=True, fig_extension=\"png\", resolution=300):\n",
    "    path = os.path.join(IMAGES_PATH, fig_id + \".\" + fig_extension)\n",
    "    print(\"Saving figure\", fig_id)\n",
    "    if tight_layout:\n",
    "        plt.tight_layout()\n",
    "    plt.savefig(path, format=fig_extension, dpi=resolution)\n",
    "\n"
   ]
  },
  {
   "cell_type": "code",
   "execution_count": 10,
   "id": "04e6c68d",
   "metadata": {},
   "outputs": [
    {
     "name": "stdout",
     "output_type": "stream",
     "text": [
      "C:\\Users\\lyder\\Desktop\\CESI\\FISE A4 INFO\\BLOC AI\\Projet\\blocAI  put all the cloned files in the same folder\n",
      "               Age  DistanceFromHome    Education  EmployeeCount     JobLevel  \\\n",
      "count  4410.000000       4410.000000  4410.000000         4410.0  4410.000000   \n",
      "mean     36.923810          9.192517     2.912925            1.0     2.063946   \n",
      "std       9.133301          8.105026     1.023933            0.0     1.106689   \n",
      "min      18.000000          1.000000     1.000000            1.0     1.000000   \n",
      "25%      30.000000          2.000000     2.000000            1.0     1.000000   \n",
      "50%      36.000000          7.000000     3.000000            1.0     2.000000   \n",
      "75%      43.000000         14.000000     4.000000            1.0     3.000000   \n",
      "max      60.000000         29.000000     5.000000            1.0     5.000000   \n",
      "\n",
      "       MonthlyIncome  NumCompaniesWorked  PercentSalaryHike  StandardHours  \\\n",
      "count    4410.000000         4391.000000        4410.000000         4410.0   \n",
      "mean    65029.312925            2.694830          15.209524            8.0   \n",
      "std     47068.888559            2.498887           3.659108            0.0   \n",
      "min     10090.000000            0.000000          11.000000            8.0   \n",
      "25%     29110.000000            1.000000          12.000000            8.0   \n",
      "50%     49190.000000            2.000000          14.000000            8.0   \n",
      "75%     83800.000000            4.000000          18.000000            8.0   \n",
      "max    199990.000000            9.000000          25.000000            8.0   \n",
      "\n",
      "       StockOptionLevel  TotalWorkingYears  TrainingTimesLastYear  \\\n",
      "count       4410.000000        4401.000000            4410.000000   \n",
      "mean           0.793878          11.279936               2.799320   \n",
      "std            0.851883           7.782222               1.288978   \n",
      "min            0.000000           0.000000               0.000000   \n",
      "25%            0.000000           6.000000               2.000000   \n",
      "50%            1.000000          10.000000               3.000000   \n",
      "75%            1.000000          15.000000               3.000000   \n",
      "max            3.000000          40.000000               6.000000   \n",
      "\n",
      "       YearsAtCompany  YearsSinceLastPromotion  YearsWithCurrManager  \n",
      "count     4410.000000              4410.000000           4410.000000  \n",
      "mean         7.008163                 2.187755              4.123129  \n",
      "std          6.125135                 3.221699              3.567327  \n",
      "min          0.000000                 0.000000              0.000000  \n",
      "25%          3.000000                 0.000000              2.000000  \n",
      "50%          5.000000                 1.000000              3.000000  \n",
      "75%          9.000000                 3.000000              7.000000  \n",
      "max         40.000000                15.000000             17.000000  \n"
     ]
    }
   ],
   "source": [
    "import os\n",
    "import tarfile\n",
    "import urllib.request\n",
    "from pathlib import Path\n",
    "import pathlib\n",
    "print(pathlib.Path().resolve(), \" put all the cloned files in the same folder\")\n",
    "\n",
    "# General data\n",
    "general_data = pd.read_csv('general_data.csv',dtype={'EmployeeID': object})\n",
    "# survey data \n",
    "manager_survey_data = pd.read_csv('manager_survey_data.csv',dtype={'EmployeeID': object})\n",
    "employee_survey_data = pd.read_csv('employee_survey_data.csv',dtype={'EmployeeID': object})\n",
    "# office entry/exit time\n",
    "in_time = pd.read_csv('in_time.csv',dtype={'EmployeeID': object})\n",
    "out_time = pd.read_csv('out_time.csv',dtype={'EmployeeID': object})\n",
    "\n",
    "print(general_data.describe())\n"
   ]
  },
  {
   "cell_type": "code",
   "execution_count": null,
   "id": "799da9b0",
   "metadata": {},
   "outputs": [],
   "source": []
  }
 ],
 "metadata": {
  "kernelspec": {
   "display_name": "Python 3 (ipykernel)",
   "language": "python",
   "name": "python3"
  },
  "language_info": {
   "codemirror_mode": {
    "name": "ipython",
    "version": 3
   },
   "file_extension": ".py",
   "mimetype": "text/x-python",
   "name": "python",
   "nbconvert_exporter": "python",
   "pygments_lexer": "ipython3",
   "version": "3.9.13"
  }
 },
 "nbformat": 4,
 "nbformat_minor": 5
}
